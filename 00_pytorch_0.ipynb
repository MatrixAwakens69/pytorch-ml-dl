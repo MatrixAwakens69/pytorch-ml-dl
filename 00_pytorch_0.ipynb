{
  "nbformat": 4,
  "nbformat_minor": 0,
  "metadata": {
    "colab": {
      "provenance": [],
      "gpuType": "T4",
      "authorship_tag": "ABX9TyPOVJ61bsyZyludX5tMukg4",
      "include_colab_link": true
    },
    "kernelspec": {
      "name": "python3",
      "display_name": "Python 3"
    },
    "language_info": {
      "name": "python"
    },
    "accelerator": "GPU"
  },
  "cells": [
    {
      "cell_type": "markdown",
      "metadata": {
        "id": "view-in-github",
        "colab_type": "text"
      },
      "source": [
        "<a href=\"https://colab.research.google.com/github/MatrixAwakens69/pytorch-ml-dl/blob/main/00_pytorch_0.ipynb\" target=\"_parent\"><img src=\"https://colab.research.google.com/assets/colab-badge.svg\" alt=\"Open In Colab\"/></a>"
      ]
    },
    {
      "cell_type": "markdown",
      "source": [
        "## 00.PyTorch Fundamentals\n",
        "\n",
        "Resource: https://www.learnpytorch.io/00_pytorch_fundamentals/"
      ],
      "metadata": {
        "id": "Y0ZKDfEbPZnl"
      }
    },
    {
      "cell_type": "code",
      "source": [
        "import torch\n",
        "import pandas as pd\n",
        "import numpy as np\n",
        "import matplotlib.pyplot as plt\n",
        "print(torch.__version__)"
      ],
      "metadata": {
        "colab": {
          "base_uri": "https://localhost:8080/"
        },
        "id": "MxPxAy3TQI1z",
        "outputId": "424935d3-60d2-4330-d3f9-e08f6ed34609"
      },
      "execution_count": 18,
      "outputs": [
        {
          "output_type": "stream",
          "name": "stdout",
          "text": [
            "2.2.0+cu121\n"
          ]
        }
      ]
    },
    {
      "cell_type": "markdown",
      "source": [
        "## Introduction to Tensors\n",
        "\n",
        "## Creating tensors"
      ],
      "metadata": {
        "id": "IVAAjZgaU_Ap"
      }
    },
    {
      "cell_type": "code",
      "source": [
        "# scalar\n",
        "scalar = torch.tensor(10)\n",
        "scalar"
      ],
      "metadata": {
        "colab": {
          "base_uri": "https://localhost:8080/"
        },
        "id": "hipcaxugU96N",
        "outputId": "095e273f-1a39-45d9-cfad-9457232a1778"
      },
      "execution_count": 19,
      "outputs": [
        {
          "output_type": "execute_result",
          "data": {
            "text/plain": [
              "tensor(10)"
            ]
          },
          "metadata": {},
          "execution_count": 19
        }
      ]
    },
    {
      "cell_type": "code",
      "source": [
        "scalar.ndim, scalar.item()"
      ],
      "metadata": {
        "colab": {
          "base_uri": "https://localhost:8080/"
        },
        "id": "OPDdbWSHLRzR",
        "outputId": "7de08a76-b3d0-4052-eb72-da31f15acd73"
      },
      "execution_count": 48,
      "outputs": [
        {
          "output_type": "execute_result",
          "data": {
            "text/plain": [
              "(0, 10)"
            ]
          },
          "metadata": {},
          "execution_count": 48
        }
      ]
    },
    {
      "cell_type": "code",
      "source": [
        "vector = torch.tensor([5, 5])\n",
        "vector"
      ],
      "metadata": {
        "colab": {
          "base_uri": "https://localhost:8080/"
        },
        "id": "hyXmdS9SK7jq",
        "outputId": "20890671-da18-4181-f772-1096ac43656b"
      },
      "execution_count": 22,
      "outputs": [
        {
          "output_type": "execute_result",
          "data": {
            "text/plain": [
              "tensor([5, 5])"
            ]
          },
          "metadata": {},
          "execution_count": 22
        }
      ]
    },
    {
      "cell_type": "code",
      "source": [
        "vector.ndim, vector.shape"
      ],
      "metadata": {
        "colab": {
          "base_uri": "https://localhost:8080/"
        },
        "id": "aPMWOIWmLZCK",
        "outputId": "305e0a39-f6a0-4f70-d13d-c260901dabc4"
      },
      "execution_count": 47,
      "outputs": [
        {
          "output_type": "execute_result",
          "data": {
            "text/plain": [
              "(1, torch.Size([2]))"
            ]
          },
          "metadata": {},
          "execution_count": 47
        }
      ]
    },
    {
      "cell_type": "code",
      "source": [
        "MATRIX = torch.tensor([[4,5],[6,7]])\n",
        "MATRIX"
      ],
      "metadata": {
        "colab": {
          "base_uri": "https://localhost:8080/"
        },
        "id": "8eFt6MiJLqV5",
        "outputId": "36b43aa4-ffc6-4065-a5d5-9dbba7c5d11a"
      },
      "execution_count": 26,
      "outputs": [
        {
          "output_type": "execute_result",
          "data": {
            "text/plain": [
              "tensor([[4, 5],\n",
              "        [6, 7]])"
            ]
          },
          "metadata": {},
          "execution_count": 26
        }
      ]
    },
    {
      "cell_type": "code",
      "source": [
        " MATRIX.ndim, MATRIX.shape, MATRIX[1]"
      ],
      "metadata": {
        "colab": {
          "base_uri": "https://localhost:8080/"
        },
        "id": "a5V_ufyBL1ug",
        "outputId": "6e3c0072-6084-4a89-966b-2d1edb39f9a8"
      },
      "execution_count": 46,
      "outputs": [
        {
          "output_type": "execute_result",
          "data": {
            "text/plain": [
              "(2, torch.Size([2, 2]), tensor([6, 7]))"
            ]
          },
          "metadata": {},
          "execution_count": 46
        }
      ]
    },
    {
      "cell_type": "code",
      "source": [
        "TENSOR = torch.tensor([[[1,2,3],\n",
        "                        [3,4,5],\n",
        "                        [4,6,8]],[[4,5,6],\n",
        "                                  [7,8,9],\n",
        "                                  [1,3,5]]])\n",
        "TENSOR"
      ],
      "metadata": {
        "colab": {
          "base_uri": "https://localhost:8080/"
        },
        "id": "IcFizWu2MDeN",
        "outputId": "3b1338db-be44-4366-a885-ba7b8e888b07"
      },
      "execution_count": 30,
      "outputs": [
        {
          "output_type": "execute_result",
          "data": {
            "text/plain": [
              "tensor([[[1, 2, 3],\n",
              "         [3, 4, 5],\n",
              "         [4, 6, 8]],\n",
              "\n",
              "        [[4, 5, 6],\n",
              "         [7, 8, 9],\n",
              "         [1, 3, 5]]])"
            ]
          },
          "metadata": {},
          "execution_count": 30
        }
      ]
    },
    {
      "cell_type": "code",
      "source": [
        "TENSOR.ndim, TENSOR.shape"
      ],
      "metadata": {
        "colab": {
          "base_uri": "https://localhost:8080/"
        },
        "id": "Z683iuunMjky",
        "outputId": "ec09ca00-bcfb-42d3-b74f-8fa6b84bed3f"
      },
      "execution_count": 44,
      "outputs": [
        {
          "output_type": "execute_result",
          "data": {
            "text/plain": [
              "(3, torch.Size([2, 3, 3]))"
            ]
          },
          "metadata": {},
          "execution_count": 44
        }
      ]
    },
    {
      "cell_type": "code",
      "source": [
        "TENSOR[1], TENSOR[1][1]"
      ],
      "metadata": {
        "colab": {
          "base_uri": "https://localhost:8080/"
        },
        "id": "rB9R3DKPMsAb",
        "outputId": "58d752b2-34d6-4280-b6ff-63683ed7b6e0"
      },
      "execution_count": 45,
      "outputs": [
        {
          "output_type": "execute_result",
          "data": {
            "text/plain": [
              "(tensor([[4, 5, 6],\n",
              "         [7, 8, 9],\n",
              "         [1, 3, 5]]),\n",
              " tensor([7, 8, 9]))"
            ]
          },
          "metadata": {},
          "execution_count": 45
        }
      ]
    },
    {
      "cell_type": "markdown",
      "source": [
        "### Random Tensors"
      ],
      "metadata": {
        "id": "5GiVCWBsNckD"
      }
    },
    {
      "cell_type": "code",
      "source": [
        "random_tensor = torch.rand(3, 4, 5)\n",
        "random_tensor, random_tensor.ndim"
      ],
      "metadata": {
        "colab": {
          "base_uri": "https://localhost:8080/"
        },
        "id": "jdGu1pVtNh78",
        "outputId": "8f9b23ab-25e2-4574-d3ce-644bd867552e"
      },
      "execution_count": 43,
      "outputs": [
        {
          "output_type": "execute_result",
          "data": {
            "text/plain": [
              "(tensor([[[0.4159, 0.9796, 0.0511, 0.7450, 0.0301],\n",
              "          [0.2545, 0.4825, 0.2810, 0.2758, 0.6010],\n",
              "          [0.0345, 0.4578, 0.4196, 0.9935, 0.0278],\n",
              "          [0.7737, 0.9595, 0.8604, 0.9175, 0.4936]],\n",
              " \n",
              "         [[0.1827, 0.8846, 0.8793, 0.8452, 0.1304],\n",
              "          [0.8872, 0.5594, 0.2717, 0.0451, 0.9378],\n",
              "          [0.7591, 0.1330, 0.9894, 0.7927, 0.6355],\n",
              "          [0.5384, 0.4077, 0.4804, 0.4649, 0.2907]],\n",
              " \n",
              "         [[0.7229, 0.2283, 0.1576, 0.5435, 0.3258],\n",
              "          [0.4104, 0.3247, 0.0251, 0.5219, 0.3095],\n",
              "          [0.6965, 0.2197, 0.1924, 0.0285, 0.3232],\n",
              "          [0.8098, 0.4048, 0.7034, 0.6394, 0.6804]]]),\n",
              " 3)"
            ]
          },
          "metadata": {},
          "execution_count": 43
        }
      ]
    },
    {
      "cell_type": "code",
      "source": [
        "random_image_tensor = torch.rand(size=(3, 256, 256))\n",
        "random_image_tensor.shape, random_image_tensor.ndim"
      ],
      "metadata": {
        "colab": {
          "base_uri": "https://localhost:8080/"
        },
        "id": "PDg1EZqLODJO",
        "outputId": "0c0379cf-8ca0-46fc-fb77-7449c7889484"
      },
      "execution_count": 49,
      "outputs": [
        {
          "output_type": "execute_result",
          "data": {
            "text/plain": [
              "(torch.Size([3, 256, 256]), 3)"
            ]
          },
          "metadata": {},
          "execution_count": 49
        }
      ]
    },
    {
      "cell_type": "code",
      "source": [
        "another_random_tensor = torch.rand(5, 8, 8)\n",
        "another_random_tensor"
      ],
      "metadata": {
        "colab": {
          "base_uri": "https://localhost:8080/"
        },
        "id": "QMXLx0smOiNS",
        "outputId": "84d8410a-418e-4303-c937-b01375ff9d05"
      },
      "execution_count": 53,
      "outputs": [
        {
          "output_type": "execute_result",
          "data": {
            "text/plain": [
              "tensor([[[0.0409, 0.4352, 0.7319, 0.1869, 0.9718, 0.6334, 0.2719, 0.3601],\n",
              "         [0.8696, 0.5178, 0.3591, 0.4731, 0.3602, 0.8595, 0.0856, 0.1400],\n",
              "         [0.1881, 0.2567, 0.8386, 0.1962, 0.0155, 0.2283, 0.1614, 0.0639],\n",
              "         [0.3887, 0.6623, 0.7881, 0.8076, 0.7442, 0.5155, 0.6964, 0.5879],\n",
              "         [0.6752, 0.9743, 0.6046, 0.0081, 0.5945, 0.4727, 0.8535, 0.6609],\n",
              "         [0.0692, 0.9642, 0.2907, 0.0911, 0.1288, 0.0623, 0.0113, 0.2721],\n",
              "         [0.1256, 0.4769, 0.2092, 0.5766, 0.1796, 0.2464, 0.0158, 0.9319],\n",
              "         [0.8309, 0.5830, 0.5122, 0.6752, 0.6997, 0.2284, 0.7669, 0.5526]],\n",
              "\n",
              "        [[0.0795, 0.7975, 0.3408, 0.6503, 0.6635, 0.4040, 0.1053, 0.1792],\n",
              "         [0.0595, 0.2845, 0.5768, 0.6524, 0.0649, 0.3246, 0.1621, 0.5632],\n",
              "         [0.7418, 0.0711, 0.7917, 0.6804, 0.5535, 0.8685, 0.8906, 0.2312],\n",
              "         [0.3336, 0.1702, 0.6503, 0.8276, 0.3015, 0.8738, 0.6972, 0.6770],\n",
              "         [0.7283, 0.8407, 0.5315, 0.2313, 0.8497, 0.0818, 0.5543, 0.4324],\n",
              "         [0.7433, 0.2929, 0.4753, 0.6804, 0.0130, 0.7823, 0.9310, 0.6317],\n",
              "         [0.1968, 0.3072, 0.4379, 0.0281, 0.2455, 0.7618, 0.0599, 0.9266],\n",
              "         [0.5362, 0.2332, 0.0936, 0.7299, 0.4154, 0.3449, 0.3503, 0.6693]],\n",
              "\n",
              "        [[0.4087, 0.5951, 0.2258, 0.8896, 0.2514, 0.6393, 0.9494, 0.9741],\n",
              "         [0.9394, 0.9033, 0.6650, 0.5650, 0.7325, 0.5616, 0.9244, 0.3160],\n",
              "         [0.8252, 0.0170, 0.9112, 0.1141, 0.9814, 0.6170, 0.8298, 0.8924],\n",
              "         [0.0521, 0.9098, 0.3137, 0.3017, 0.2177, 0.3846, 0.6730, 0.9949],\n",
              "         [0.2622, 0.4582, 0.8601, 0.7785, 0.4117, 0.6681, 0.0607, 0.8618],\n",
              "         [0.3526, 0.2391, 0.6100, 0.2744, 0.8768, 0.3308, 0.8985, 0.8012],\n",
              "         [0.4398, 0.6243, 0.2663, 0.4151, 0.5931, 0.9688, 0.1164, 0.5194],\n",
              "         [0.5151, 0.4895, 0.3001, 0.9312, 0.5354, 0.9464, 0.6766, 0.3515]],\n",
              "\n",
              "        [[0.0622, 0.0556, 0.2078, 0.1011, 0.5667, 0.4129, 0.8392, 0.8507],\n",
              "         [0.9638, 0.3274, 0.4931, 0.7731, 0.9529, 0.0921, 0.3497, 0.1125],\n",
              "         [0.0731, 0.6664, 0.6890, 0.5740, 0.5281, 0.4488, 0.8971, 0.3338],\n",
              "         [0.9945, 0.4360, 0.9613, 0.6252, 0.1439, 0.5675, 0.1216, 0.7794],\n",
              "         [0.9299, 0.6888, 0.5360, 0.1526, 0.2683, 0.3079, 0.2209, 0.5904],\n",
              "         [0.4820, 0.9449, 0.8637, 0.2974, 0.0861, 0.4280, 0.2271, 0.3120],\n",
              "         [0.7782, 0.1991, 0.5804, 0.4580, 0.4019, 0.2487, 0.1197, 0.4631],\n",
              "         [0.9395, 0.7685, 0.7713, 0.2635, 0.3025, 0.8526, 0.3588, 0.2891]],\n",
              "\n",
              "        [[0.1721, 0.4329, 0.9759, 0.0169, 0.9494, 0.4393, 0.5012, 0.0011],\n",
              "         [0.4195, 0.7879, 0.1696, 0.4028, 0.3903, 0.7450, 0.5524, 0.7049],\n",
              "         [0.2444, 0.2646, 0.7642, 0.2213, 0.1727, 0.7845, 0.5266, 0.7423],\n",
              "         [0.1451, 0.0305, 0.3729, 0.4184, 0.8424, 0.9859, 0.8792, 0.2055],\n",
              "         [0.5506, 0.8727, 0.8180, 0.4745, 0.7093, 0.1146, 0.4932, 0.2764],\n",
              "         [0.4867, 0.5870, 0.9693, 0.4916, 0.9354, 0.5033, 0.8769, 0.6763],\n",
              "         [0.1464, 0.3532, 0.8610, 0.6622, 0.1696, 0.1564, 0.6784, 0.9950],\n",
              "         [0.8782, 0.4840, 0.3487, 0.5549, 0.1519, 0.4064, 0.8026, 0.5144]]])"
            ]
          },
          "metadata": {},
          "execution_count": 53
        }
      ]
    },
    {
      "cell_type": "code",
      "source": [
        "zero = torch.zeros(3, 4)\n",
        "zero"
      ],
      "metadata": {
        "colab": {
          "base_uri": "https://localhost:8080/"
        },
        "id": "qUQ9mB6DPhse",
        "outputId": "b8b54878-86fd-4354-8530-d39485be99ce"
      },
      "execution_count": 55,
      "outputs": [
        {
          "output_type": "execute_result",
          "data": {
            "text/plain": [
              "tensor([[0., 0., 0., 0.],\n",
              "        [0., 0., 0., 0.],\n",
              "        [0., 0., 0., 0.]])"
            ]
          },
          "metadata": {},
          "execution_count": 55
        }
      ]
    },
    {
      "cell_type": "code",
      "source": [
        "one = torch.ones(3, 4)\n",
        "one"
      ],
      "metadata": {
        "colab": {
          "base_uri": "https://localhost:8080/"
        },
        "id": "mObai2iGPm_u",
        "outputId": "b90ab8c0-010b-4ac2-ad64-6b43d0231a5a"
      },
      "execution_count": 56,
      "outputs": [
        {
          "output_type": "execute_result",
          "data": {
            "text/plain": [
              "tensor([[1., 1., 1., 1.],\n",
              "        [1., 1., 1., 1.],\n",
              "        [1., 1., 1., 1.]])"
            ]
          },
          "metadata": {},
          "execution_count": 56
        }
      ]
    },
    {
      "cell_type": "markdown",
      "source": [
        "### Range of Tensors"
      ],
      "metadata": {
        "id": "034d3RP3P95g"
      }
    },
    {
      "cell_type": "code",
      "source": [
        "three_fifteen = torch.arange(3, 150, 4)\n",
        "three_fifteen"
      ],
      "metadata": {
        "colab": {
          "base_uri": "https://localhost:8080/"
        },
        "id": "MgNmTnYgQAmb",
        "outputId": "88021145-9535-48bf-c13d-b4272e189730"
      },
      "execution_count": 60,
      "outputs": [
        {
          "output_type": "execute_result",
          "data": {
            "text/plain": [
              "tensor([  3,   7,  11,  15,  19,  23,  27,  31,  35,  39,  43,  47,  51,  55,\n",
              "         59,  63,  67,  71,  75,  79,  83,  87,  91,  95,  99, 103, 107, 111,\n",
              "        115, 119, 123, 127, 131, 135, 139, 143, 147])"
            ]
          },
          "metadata": {},
          "execution_count": 60
        }
      ]
    },
    {
      "cell_type": "code",
      "source": [
        "some_zeroes = torch.zeros_like(three_fifteen)\n",
        "some_zeroes"
      ],
      "metadata": {
        "colab": {
          "base_uri": "https://localhost:8080/"
        },
        "id": "G-zdSG_jQLvy",
        "outputId": "cc453412-beab-4e14-eb02-0049db2e96e5"
      },
      "execution_count": 61,
      "outputs": [
        {
          "output_type": "execute_result",
          "data": {
            "text/plain": [
              "tensor([0, 0, 0, 0, 0, 0, 0, 0, 0, 0, 0, 0, 0, 0, 0, 0, 0, 0, 0, 0, 0, 0, 0, 0,\n",
              "        0, 0, 0, 0, 0, 0, 0, 0, 0, 0, 0, 0, 0])"
            ]
          },
          "metadata": {},
          "execution_count": 61
        }
      ]
    },
    {
      "cell_type": "markdown",
      "source": [
        "### Tensor Datatypes"
      ],
      "metadata": {
        "id": "jqYduqa8Q7AP"
      }
    },
    {
      "cell_type": "code",
      "source": [],
      "metadata": {
        "id": "OLW012pUQnsz"
      },
      "execution_count": null,
      "outputs": []
    }
  ]
}