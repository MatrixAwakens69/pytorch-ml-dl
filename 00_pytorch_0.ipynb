{
  "nbformat": 4,
  "nbformat_minor": 0,
  "metadata": {
    "colab": {
      "provenance": [],
      "gpuType": "T4",
      "toc_visible": true,
      "authorship_tag": "ABX9TyPOVJ61bsyZyludX5tMukg4",
      "include_colab_link": true
    },
    "kernelspec": {
      "name": "python3",
      "display_name": "Python 3"
    },
    "language_info": {
      "name": "python"
    },
    "accelerator": "GPU"
  },
  "cells": [
    {
      "cell_type": "markdown",
      "metadata": {
        "id": "view-in-github",
        "colab_type": "text"
      },
      "source": [
        "<a href=\"https://colab.research.google.com/github/MatrixAwakens69/pytorch-ml-dl/blob/main/00_pytorch_0.ipynb\" target=\"_parent\"><img src=\"https://colab.research.google.com/assets/colab-badge.svg\" alt=\"Open In Colab\"/></a>"
      ]
    },
    {
      "cell_type": "markdown",
      "source": [
        "## 00.PyTorch Fundamentals\n",
        "\n",
        "Resource: https://www.learnpytorch.io/00_pytorch_fundamentals/"
      ],
      "metadata": {
        "id": "Y0ZKDfEbPZnl"
      }
    },
    {
      "cell_type": "code",
      "source": [
        "import torch\n",
        "import pandas as pd\n",
        "import numpy as np\n",
        "import matplotlib.pyplot as plt\n",
        "print(torch.__version__)"
      ],
      "metadata": {
        "colab": {
          "base_uri": "https://localhost:8080/"
        },
        "id": "MxPxAy3TQI1z",
        "outputId": "460176c2-f080-40d6-c89e-a9232b52927a"
      },
      "execution_count": 3,
      "outputs": [
        {
          "output_type": "stream",
          "name": "stdout",
          "text": [
            "2.2.0+cu121\n"
          ]
        }
      ]
    },
    {
      "cell_type": "markdown",
      "source": [
        "## Introduction to Tensors\n",
        "\n",
        "## Creating tensors"
      ],
      "metadata": {
        "id": "IVAAjZgaU_Ap"
      }
    },
    {
      "cell_type": "code",
      "source": [
        "# scalar\n",
        "scalar = torch.tensor(10)\n",
        "scalar"
      ],
      "metadata": {
        "colab": {
          "base_uri": "https://localhost:8080/"
        },
        "id": "hipcaxugU96N",
        "outputId": "637b3881-b86c-475a-9eb3-2106540459b6"
      },
      "execution_count": 4,
      "outputs": [
        {
          "output_type": "execute_result",
          "data": {
            "text/plain": [
              "tensor(10)"
            ]
          },
          "metadata": {},
          "execution_count": 4
        }
      ]
    },
    {
      "cell_type": "code",
      "source": [
        "scalar.ndim, scalar.item()"
      ],
      "metadata": {
        "colab": {
          "base_uri": "https://localhost:8080/"
        },
        "id": "OPDdbWSHLRzR",
        "outputId": "e68b4cff-a1d9-454f-80be-ee5549f3edeb"
      },
      "execution_count": 5,
      "outputs": [
        {
          "output_type": "execute_result",
          "data": {
            "text/plain": [
              "(0, 10)"
            ]
          },
          "metadata": {},
          "execution_count": 5
        }
      ]
    },
    {
      "cell_type": "code",
      "source": [
        "vector = torch.tensor([5, 5])\n",
        "vector"
      ],
      "metadata": {
        "colab": {
          "base_uri": "https://localhost:8080/"
        },
        "id": "hyXmdS9SK7jq",
        "outputId": "d6d1d0ff-dec0-4a26-b085-05b7bf67ed21"
      },
      "execution_count": 6,
      "outputs": [
        {
          "output_type": "execute_result",
          "data": {
            "text/plain": [
              "tensor([5, 5])"
            ]
          },
          "metadata": {},
          "execution_count": 6
        }
      ]
    },
    {
      "cell_type": "code",
      "source": [
        "vector.ndim, vector.shape"
      ],
      "metadata": {
        "colab": {
          "base_uri": "https://localhost:8080/"
        },
        "id": "aPMWOIWmLZCK",
        "outputId": "d1bb9bbf-a9d8-4e37-dfaa-2e15f8e35569"
      },
      "execution_count": 7,
      "outputs": [
        {
          "output_type": "execute_result",
          "data": {
            "text/plain": [
              "(1, torch.Size([2]))"
            ]
          },
          "metadata": {},
          "execution_count": 7
        }
      ]
    },
    {
      "cell_type": "code",
      "source": [
        "MATRIX = torch.tensor([[4,5],[6,7]])\n",
        "MATRIX"
      ],
      "metadata": {
        "colab": {
          "base_uri": "https://localhost:8080/"
        },
        "id": "8eFt6MiJLqV5",
        "outputId": "7bca0647-542f-4f1e-a93f-bf29a78b0141"
      },
      "execution_count": 8,
      "outputs": [
        {
          "output_type": "execute_result",
          "data": {
            "text/plain": [
              "tensor([[4, 5],\n",
              "        [6, 7]])"
            ]
          },
          "metadata": {},
          "execution_count": 8
        }
      ]
    },
    {
      "cell_type": "code",
      "source": [
        " MATRIX.ndim, MATRIX.shape, MATRIX[1]"
      ],
      "metadata": {
        "colab": {
          "base_uri": "https://localhost:8080/"
        },
        "id": "a5V_ufyBL1ug",
        "outputId": "2f02de89-ba39-4dbd-a9bf-58b8e1b5a56a"
      },
      "execution_count": 9,
      "outputs": [
        {
          "output_type": "execute_result",
          "data": {
            "text/plain": [
              "(2, torch.Size([2, 2]), tensor([6, 7]))"
            ]
          },
          "metadata": {},
          "execution_count": 9
        }
      ]
    },
    {
      "cell_type": "code",
      "source": [
        "TENSOR = torch.tensor([[[1,2,3],\n",
        "                        [3,4,5],\n",
        "                        [4,6,8]],[[4,5,6],\n",
        "                                  [7,8,9],\n",
        "                                  [1,3,5]]])\n",
        "TENSOR"
      ],
      "metadata": {
        "colab": {
          "base_uri": "https://localhost:8080/"
        },
        "id": "IcFizWu2MDeN",
        "outputId": "3c659cb1-ce0b-4636-d61a-781a3c36756c"
      },
      "execution_count": 13,
      "outputs": [
        {
          "output_type": "execute_result",
          "data": {
            "text/plain": [
              "tensor([[[1, 2, 3],\n",
              "         [3, 4, 5],\n",
              "         [4, 6, 8]],\n",
              "\n",
              "        [[4, 5, 6],\n",
              "         [7, 8, 9],\n",
              "         [1, 3, 5]]])"
            ]
          },
          "metadata": {},
          "execution_count": 13
        }
      ]
    },
    {
      "cell_type": "code",
      "source": [
        "TENSOR.ndim, TENSOR.shape"
      ],
      "metadata": {
        "colab": {
          "base_uri": "https://localhost:8080/"
        },
        "id": "Z683iuunMjky",
        "outputId": "28023b24-9b25-46a8-e090-e645325c9c65"
      },
      "execution_count": 14,
      "outputs": [
        {
          "output_type": "execute_result",
          "data": {
            "text/plain": [
              "(3, torch.Size([2, 3, 3]))"
            ]
          },
          "metadata": {},
          "execution_count": 14
        }
      ]
    },
    {
      "cell_type": "code",
      "source": [
        "TENSOR[1], TENSOR[1][1]"
      ],
      "metadata": {
        "colab": {
          "base_uri": "https://localhost:8080/"
        },
        "id": "rB9R3DKPMsAb",
        "outputId": "32b936d1-85bb-4c3b-fc38-c59d6fcb66d7"
      },
      "execution_count": 15,
      "outputs": [
        {
          "output_type": "execute_result",
          "data": {
            "text/plain": [
              "(tensor([[4, 5, 6],\n",
              "         [7, 8, 9],\n",
              "         [1, 3, 5]]),\n",
              " tensor([7, 8, 9]))"
            ]
          },
          "metadata": {},
          "execution_count": 15
        }
      ]
    },
    {
      "cell_type": "markdown",
      "source": [
        "### Random Tensors"
      ],
      "metadata": {
        "id": "5GiVCWBsNckD"
      }
    },
    {
      "cell_type": "code",
      "source": [
        "random_tensor = torch.rand(3, 4, 5)\n",
        "random_tensor, random_tensor.ndim"
      ],
      "metadata": {
        "colab": {
          "base_uri": "https://localhost:8080/"
        },
        "id": "jdGu1pVtNh78",
        "outputId": "29a56b0b-2a65-44c8-825b-166ce1e32217"
      },
      "execution_count": 16,
      "outputs": [
        {
          "output_type": "execute_result",
          "data": {
            "text/plain": [
              "(tensor([[[0.6010, 0.4459, 0.4766, 0.1349, 0.5312],\n",
              "          [0.8763, 0.0135, 0.1911, 0.9405, 0.1015],\n",
              "          [0.6038, 0.1973, 0.3774, 0.5700, 0.4986],\n",
              "          [0.1910, 0.4517, 0.5541, 0.1716, 0.3575]],\n",
              " \n",
              "         [[0.9240, 0.5253, 0.7203, 0.6269, 0.5765],\n",
              "          [0.2221, 0.8024, 0.3504, 0.1694, 0.1005],\n",
              "          [0.9849, 0.0754, 0.8948, 0.1814, 0.6812],\n",
              "          [0.1409, 0.8638, 0.7460, 0.9786, 0.4769]],\n",
              " \n",
              "         [[0.1821, 0.7498, 0.1225, 0.2653, 0.7101],\n",
              "          [0.3872, 0.1112, 0.9677, 0.0027, 0.6942],\n",
              "          [0.2992, 0.7196, 0.2852, 0.9939, 0.3151],\n",
              "          [0.5937, 0.5171, 0.5221, 0.3761, 0.1716]]]),\n",
              " 3)"
            ]
          },
          "metadata": {},
          "execution_count": 16
        }
      ]
    },
    {
      "cell_type": "code",
      "source": [
        "random_image_tensor = torch.rand(size=(3, 256, 256))\n",
        "random_image_tensor.shape, random_image_tensor.ndim"
      ],
      "metadata": {
        "colab": {
          "base_uri": "https://localhost:8080/"
        },
        "id": "PDg1EZqLODJO",
        "outputId": "e9957df2-8035-46f2-f3df-668df4416343"
      },
      "execution_count": 17,
      "outputs": [
        {
          "output_type": "execute_result",
          "data": {
            "text/plain": [
              "(torch.Size([3, 256, 256]), 3)"
            ]
          },
          "metadata": {},
          "execution_count": 17
        }
      ]
    },
    {
      "cell_type": "code",
      "source": [
        "another_random_tensor = torch.rand(5, 8, 8)\n",
        "another_random_tensor"
      ],
      "metadata": {
        "colab": {
          "base_uri": "https://localhost:8080/"
        },
        "id": "QMXLx0smOiNS",
        "outputId": "1be045b5-b51d-42a8-d2d2-b3953c5a5d15"
      },
      "execution_count": 39,
      "outputs": [
        {
          "output_type": "execute_result",
          "data": {
            "text/plain": [
              "tensor([[[0.5743, 0.3596, 0.7142, 0.7823, 0.8462, 0.6738, 0.1610, 0.6472],\n",
              "         [0.6833, 0.0107, 0.6688, 0.0489, 0.3788, 0.4917, 0.4237, 0.1908],\n",
              "         [0.8944, 0.7738, 0.6890, 0.2011, 0.8452, 0.9159, 0.9905, 0.5076],\n",
              "         [0.8331, 0.8950, 0.2534, 0.8911, 0.2759, 0.4257, 0.9277, 0.7788],\n",
              "         [0.1697, 0.8468, 0.3628, 0.0181, 0.7991, 0.3021, 0.9087, 0.1087],\n",
              "         [0.0049, 0.6406, 0.4906, 0.5425, 0.0742, 0.3830, 0.7585, 0.2709],\n",
              "         [0.3350, 0.5690, 0.8227, 0.6909, 0.9307, 0.2575, 0.0871, 0.4789],\n",
              "         [0.7923, 0.6806, 0.3083, 0.3146, 0.2952, 0.7451, 0.1165, 0.0426]],\n",
              "\n",
              "        [[0.4245, 0.8023, 0.8595, 0.7267, 0.2069, 0.9176, 0.6355, 0.4158],\n",
              "         [0.9675, 0.4895, 0.0666, 0.2537, 0.2400, 0.7655, 0.1147, 0.5019],\n",
              "         [0.0814, 0.9449, 0.0084, 0.7280, 0.9975, 0.8813, 0.1674, 0.8623],\n",
              "         [0.4453, 0.8096, 0.3730, 0.9405, 0.1686, 0.3447, 0.6438, 0.8086],\n",
              "         [0.5842, 0.5883, 0.5146, 0.3937, 0.5172, 0.3504, 0.7837, 0.7727],\n",
              "         [0.8304, 0.5596, 0.9798, 0.2288, 0.2993, 0.4027, 0.6390, 0.6693],\n",
              "         [0.2695, 0.1961, 0.4978, 0.2114, 0.4830, 0.8111, 0.8731, 0.8821],\n",
              "         [0.6477, 0.7897, 0.2225, 0.1272, 0.8718, 0.7097, 0.5938, 0.1643]],\n",
              "\n",
              "        [[0.9380, 0.0830, 0.6887, 0.8365, 0.8168, 0.2130, 0.9203, 0.8132],\n",
              "         [0.6588, 0.6403, 0.2080, 0.2748, 0.9375, 0.8257, 0.4620, 0.9132],\n",
              "         [0.9401, 0.5986, 0.8894, 0.0784, 0.5491, 0.2410, 0.9568, 0.9959],\n",
              "         [0.2697, 0.2599, 0.1216, 0.7993, 0.8174, 0.3216, 0.9168, 0.0916],\n",
              "         [0.5236, 0.1212, 0.4139, 0.9151, 0.4985, 0.0168, 0.5523, 0.2175],\n",
              "         [0.4428, 0.5083, 0.0370, 0.0841, 0.0819, 0.6252, 0.1089, 0.9799],\n",
              "         [0.2948, 0.3673, 0.0705, 0.8512, 0.8827, 0.9204, 0.1760, 0.2881],\n",
              "         [0.8727, 0.8127, 0.4953, 0.4137, 0.3792, 0.4933, 0.5195, 0.9015]],\n",
              "\n",
              "        [[0.3650, 0.5613, 0.3080, 0.2718, 0.2163, 0.0126, 0.6722, 0.5799],\n",
              "         [0.8383, 0.3241, 0.0029, 0.1790, 0.6115, 0.0626, 0.9063, 0.0128],\n",
              "         [0.8996, 0.5701, 0.1053, 0.2187, 0.7775, 0.2263, 0.0446, 0.5229],\n",
              "         [0.0759, 0.4462, 0.8524, 0.8253, 0.7632, 0.9490, 0.8185, 0.8517],\n",
              "         [0.4819, 0.2503, 0.2850, 0.8643, 0.0933, 0.7549, 0.4090, 0.4133],\n",
              "         [0.7688, 0.9703, 0.9397, 0.3974, 0.4286, 0.8978, 0.3647, 0.8166],\n",
              "         [0.1146, 0.4441, 0.0059, 0.0013, 0.3014, 0.4636, 0.0475, 0.2701],\n",
              "         [0.5742, 0.5812, 0.5464, 0.7650, 0.3109, 0.9581, 0.7058, 0.6183]],\n",
              "\n",
              "        [[0.4417, 0.9723, 0.7777, 0.0659, 0.4185, 0.7192, 0.6817, 0.9933],\n",
              "         [0.8842, 0.7218, 0.5082, 0.7735, 0.1577, 0.7543, 0.7020, 0.9201],\n",
              "         [0.6461, 0.6992, 0.5397, 0.4356, 0.6660, 0.3339, 0.1857, 0.2231],\n",
              "         [0.8654, 0.0865, 0.1340, 0.5062, 0.0240, 0.1748, 0.2249, 0.4610],\n",
              "         [0.4059, 0.9776, 0.4777, 0.0047, 0.8301, 0.4859, 0.9879, 0.3352],\n",
              "         [0.4403, 0.1930, 0.4704, 0.1193, 0.7296, 0.6611, 0.0734, 0.4907],\n",
              "         [0.2940, 0.7812, 0.1908, 0.7338, 0.8677, 0.6508, 0.2154, 0.1492],\n",
              "         [0.2776, 0.5891, 0.0335, 0.8502, 0.9639, 0.4482, 0.1979, 0.6618]]])"
            ]
          },
          "metadata": {},
          "execution_count": 39
        }
      ]
    },
    {
      "cell_type": "code",
      "source": [
        "zero = torch.zeros(3, 4)\n",
        "zero"
      ],
      "metadata": {
        "colab": {
          "base_uri": "https://localhost:8080/"
        },
        "id": "qUQ9mB6DPhse",
        "outputId": "a5d2aa16-763c-4095-93c1-4cb699505f5e"
      },
      "execution_count": 26,
      "outputs": [
        {
          "output_type": "execute_result",
          "data": {
            "text/plain": [
              "tensor([[0., 0., 0., 0.],\n",
              "        [0., 0., 0., 0.],\n",
              "        [0., 0., 0., 0.]])"
            ]
          },
          "metadata": {},
          "execution_count": 26
        }
      ]
    },
    {
      "cell_type": "code",
      "source": [
        "one = torch.ones(3, 4)\n",
        "one"
      ],
      "metadata": {
        "colab": {
          "base_uri": "https://localhost:8080/"
        },
        "id": "mObai2iGPm_u",
        "outputId": "e0ddaa8e-9158-4b9d-a355-f0a66f1b46ad"
      },
      "execution_count": 27,
      "outputs": [
        {
          "output_type": "execute_result",
          "data": {
            "text/plain": [
              "tensor([[1., 1., 1., 1.],\n",
              "        [1., 1., 1., 1.],\n",
              "        [1., 1., 1., 1.]])"
            ]
          },
          "metadata": {},
          "execution_count": 27
        }
      ]
    },
    {
      "cell_type": "markdown",
      "source": [
        "### Range of Tensors"
      ],
      "metadata": {
        "id": "034d3RP3P95g"
      }
    },
    {
      "cell_type": "code",
      "source": [
        "three_fifteen = torch.arange(3, 150, 4)\n",
        "three_fifteen"
      ],
      "metadata": {
        "colab": {
          "base_uri": "https://localhost:8080/"
        },
        "id": "MgNmTnYgQAmb",
        "outputId": "be3bbad8-cb1e-4ab2-caf2-449cd832c136"
      },
      "execution_count": 28,
      "outputs": [
        {
          "output_type": "execute_result",
          "data": {
            "text/plain": [
              "tensor([  3,   7,  11,  15,  19,  23,  27,  31,  35,  39,  43,  47,  51,  55,\n",
              "         59,  63,  67,  71,  75,  79,  83,  87,  91,  95,  99, 103, 107, 111,\n",
              "        115, 119, 123, 127, 131, 135, 139, 143, 147])"
            ]
          },
          "metadata": {},
          "execution_count": 28
        }
      ]
    },
    {
      "cell_type": "code",
      "source": [
        "some_zeroes = torch.zeros_like(three_fifteen)\n",
        "some_zeroes"
      ],
      "metadata": {
        "colab": {
          "base_uri": "https://localhost:8080/"
        },
        "id": "G-zdSG_jQLvy",
        "outputId": "dd5448bf-f5c6-4197-fcbf-4c80b7c0d04e"
      },
      "execution_count": 29,
      "outputs": [
        {
          "output_type": "execute_result",
          "data": {
            "text/plain": [
              "tensor([0, 0, 0, 0, 0, 0, 0, 0, 0, 0, 0, 0, 0, 0, 0, 0, 0, 0, 0, 0, 0, 0, 0, 0,\n",
              "        0, 0, 0, 0, 0, 0, 0, 0, 0, 0, 0, 0, 0])"
            ]
          },
          "metadata": {},
          "execution_count": 29
        }
      ]
    },
    {
      "cell_type": "markdown",
      "source": [
        "### Tensor Datatypes"
      ],
      "metadata": {
        "id": "jqYduqa8Q7AP"
      }
    },
    {
      "cell_type": "code",
      "source": [],
      "metadata": {
        "id": "OLW012pUQnsz"
      },
      "execution_count": null,
      "outputs": []
    }
  ]
}